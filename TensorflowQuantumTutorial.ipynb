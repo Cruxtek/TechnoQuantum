{
  "cells": [
    {
      "cell_type": "markdown",
      "metadata": {
        "id": "xLOXFOT5Q40E"
      },
      "source": [
        "# Codigo de ejecucion Tensorflow Quantum\n",
        "# Mario Moctezuma Mendoza Traduccion\n",
        "# Tarea 1 Doctor Luis Carlos Altamirano Robles"
      ]
    },
    {
      "cell_type": "markdown",
      "metadata": {
        "id": "j6331ZSsQGY3"
      },
      "source": [
        "# Hola mundo Quantum"
      ]
    },
    {
      "cell_type": "markdown",
      "metadata": {
        "id": "i9Jcnb8bQQyd"
      },
      "source": [
        "<table class=\"tfo-notebook-buttons\" align=\"left\">\n",
        "  <td>\n",
        "    <a target=\"_blank\" href=\"https://www.tensorflow.org/quantum/tutorials/hello_many_worlds\"><img src=\"https://www.tensorflow.org/images/tf_logo_32px.png\" />View on TensorFlow.org</a>\n",
        "  </td>\n",
        "  <td>\n",
        "    <a target=\"_blank\" href=\"https://colab.research.google.com/github/tensorflow/quantum/blob/master/docs/tutorials/hello_many_worlds.ipynb\"><img src=\"https://www.tensorflow.org/images/colab_logo_32px.png\" />Run in Google Colab</a>\n",
        "  </td>\n",
        "  <td>\n",
        "    <a target=\"_blank\" href=\"https://github.com/tensorflow/quantum/blob/master/docs/tutorials/hello_many_worlds.ipynb\"><img src=\"https://www.tensorflow.org/images/GitHub-Mark-32px.png\" />View source on GitHub</a>\n",
        "  </td>\n",
        "  <td>\n",
        "    <a href=\"https://github.com/Cruxtek\"><img src=\"https://www.tensorflow.org/images/download_logo_32px.png\" />Download notebook's</a>\n",
        "  </td>\n",
        "</table>"
      ]
    },
    {
      "cell_type": "markdown",
      "metadata": {
        "id": "sPZoNKvpUaqa"
      },
      "source": [
        "## Instalación"
      ]
    },
    {
      "cell_type": "code",
      "execution_count": null,
      "metadata": {
        "id": "TorxE5tnkvb2",
        "vscode": {
          "languageId": "python"
        }
      },
      "outputs": [],
      "source": [
        "!pip install tensorflow==2.15.0"
      ]
    },
    {
      "cell_type": "markdown",
      "metadata": {
        "id": "FxkQA6oblNqI"
      },
      "source": [
        "Instalamos TensorFlow Quantum:"
      ]
    },
    {
      "cell_type": "code",
      "execution_count": null,
      "metadata": {
        "id": "saFHsRDpkvkH",
        "vscode": {
          "languageId": "python"
        }
      },
      "outputs": [],
      "source": [
        "!pip install tensorflow-quantum==0.7.3"
      ]
    },
    {
      "cell_type": "code",
      "execution_count": null,
      "metadata": {
        "id": "4Ql5PW-ACO0J",
        "vscode": {
          "languageId": "python"
        }
      },
      "outputs": [],
      "source": [
        "# Actualizamos paqueterias.\n",
        "import importlib, pkg_resources\n",
        "\n",
        "importlib.reload(pkg_resources)"
      ]
    },
    {
      "cell_type": "markdown",
      "metadata": {
        "id": "F1L8h1YKUvIO"
      },
      "source": [
        "# importamos ahora las dependencias:"
      ]
    },
    {
      "cell_type": "code",
      "execution_count": null,
      "metadata": {
        "id": "enZ300Bflq80",
        "vscode": {
          "languageId": "python"
        }
      },
      "outputs": [],
      "source": [
        "import tensorflow as tf\n",
        "import tensorflow_quantum as tfq\n",
        "\n",
        "import cirq\n",
        "import sympy\n",
        "import numpy as np\n",
        "\n",
        "# Herramienta para visualizar el circuito quantico\n",
        "%matplotlib inline\n",
        "import matplotlib.pyplot as plt\n",
        "from cirq.contrib.svg import SVGCircuit"
      ]
    },
    {
      "cell_type": "markdown",
      "metadata": {
        "id": "b08Mmbs8lr81"
      },
      "source": [
        "## 1. Lo basico"
      ]
    },
    {
      "cell_type": "markdown",
      "metadata": {
        "id": "y31qSRCczI-L"
      },
      "source": [
        "### 1.1 Circuitos y parametros cuanticos\n",
        "\n",
        "explorando TensorFlow Quantum (TFQ), puedes hechar un vistazo <a target=\"_blank\" href=\"https://github.com/quantumlib/Cirq\" class=\"external\">Cirq</a> basico. Cirq es una libreria de python para la computacion cuantica de google tu puedes usar y detallar a paso incluyendo de manera estatica y parametrica los estados de la mecanica clasica cuantica.\n",
        "\n",
        "Cirq usa <a target=\"_blank\" href=\"https://www.sympy.org\" class=\"external\">SymPy</a> simbolos que representan los entrelazamientos cuanticos."
      ]
    },
    {
      "cell_type": "code",
      "execution_count": null,
      "metadata": {
        "id": "2yQdmhQLCrzQ",
        "vscode": {
          "languageId": "python"
        }
      },
      "outputs": [],
      "source": [
        "a, b = sympy.symbols('a b')"
      ]
    },
    {
      "cell_type": "markdown",
      "metadata": {
        "id": "itUlpbKmDYNW"
      },
      "source": [
        "\\siguiendo el codigo creado por dos Qubits 0 y 1 programados:"
      ]
    },
    {
      "cell_type": "code",
      "execution_count": null,
      "metadata": {
        "id": "Ps-pd2mndXs7",
        "vscode": {
          "languageId": "python"
        }
      },
      "outputs": [],
      "source": [
        "# Create dos qubits\n",
        "q0, q1 = cirq.GridQubit.rect(1, 2)\n",
        "\n",
        "# Crea dos qubits de estado inicial 0 y estado inicial 1\n",
        "circuit = cirq.Circuit(cirq.rx(a).on(q0), cirq.ry(b).on(q1), cirq.CNOT(q0, q1))\n",
        "#yo modifique con arial xD\n",
        "SVGCircuit(circuit)"
      ]
    },
    {
      "cell_type": "markdown",
      "metadata": {
        "id": "zcCX109cJUaz"
      },
      "source": [
        "esto evalua los circuitos, tu puedes usar el `cirq.Simulator` interfaces. puedes remplazar replazar los parametros del circuito especificando el numero pasando por el filtro `cirq.ParamResolver` objeto. Tsiquiendo este tutorial paso a paso para evaluar la  ejecucion:"
      ]
    },
    {
      "cell_type": "code",
      "execution_count": null,
      "metadata": {
        "id": "VMq7EayNRyQb",
        "vscode": {
          "languageId": "python"
        }
      },
      "outputs": [],
      "source": [
        "# Calcula una pendiente de a=0.5 and b=-0.5.\n",
        "resolver = cirq.ParamResolver({a: 0.5, b: -0.5})\n",
        "output_state_vector = cirq.Simulator().simulate(circuit,\n",
        "                                                resolver).final_state_vector\n",
        "output_state_vector"
      ]
    },
    {
      "cell_type": "markdown",
      "metadata": {
        "id": "-SUlLpXBeicF"
      },
      "source": [
        "los vectores de entrelazamientos no son claros porque es un qubit (el uso de los complejos numeros en la salida).las ecuaciones fisicas de ejecucion, puedes especificar y modificar,cada raiz es un numero imaginario como dato qubit. Cirq especifica el uso de entrelazamiento del control de heisemberg/hadamard<a target=\"_blank\" href=\"https://en.wikipedia.org/wiki/Pauli_matrices\" class=\"external\">Pauli operaciones</a> $\\hat{X}$, $\\hat{Y}$, y $\\hat{Z}$. puedes ver la ilustracion de las operaciones de pauli como de ilustración, sigue el funcionamiento $\\hat{Z}_0$ y $\\frac{1}{2}\\hat{Z}_0 + \\hat{X}_1$ donde el estado de vector justo esta simulado:"
      ]
    },
    {
      "cell_type": "code",
      "execution_count": null,
      "metadata": {
        "id": "hrSnOCi3ehr_",
        "scrolled": true,
        "vscode": {
          "languageId": "python"
        }
      },
      "outputs": [],
      "source": [
        "z0 = cirq.Z(q0)\n",
        "\n",
        "qubit_map = {q0: 0, q1: 1}\n",
        "\n",
        "z0.expectation_from_state_vector(output_state_vector, qubit_map).real"
      ]
    },
    {
      "cell_type": "code",
      "execution_count": null,
      "metadata": {
        "id": "OZ0lWFXv6pII",
        "vscode": {
          "languageId": "python"
        }
      },
      "outputs": [],
      "source": [
        "z0x1 = 1.5 * z0 + cirq.X(q1)\n",
        "\n",
        "z0x1.expectation_from_state_vector(output_state_vector, qubit_map).real"
      ]
    },
    {
      "cell_type": "markdown",
      "source": [],
      "metadata": {
        "id": "wmB1T4lmuPRM"
      }
    },
    {
      "cell_type": "markdown",
      "metadata": {
        "id": "bkC-yjIolDNr"
      },
      "source": [
        " 1.2 Circuitos Cuanticos modo tensor\n",
        "\n",
        "TensorFlow Quantum (TFQ) provedor `tfq.convert_to_tensor`, una funcion que convierte Cirq en objetos dentro de los tensor (inteligencia Artificial hibrida). siguiendo este tutorial de como programar en Cirq y sus paqueterias para desarrollar proyectos cortos y comprender la mecanica cuantica <a target=\"_blank\" href=\"https://www.tensorflow.org/quantum/api_docs/python/tfq/layers\">quantum capas</a> y <a target=\"_blank\" href=\"https://www.tensorflow.org/quantum/api_docs/python/tfq/get_expectation_op\">quantum opciones </a>. la funcuon peude se llamada en lista de arreglos en la paqueteria de circuitos o circuitos de pauli con cirq:"
      ]
    },
    {
      "cell_type": "code",
      "execution_count": null,
      "metadata": {
        "id": "1gLQjA02mIyy",
        "scrolled": true,
        "vscode": {
          "languageId": "python"
        }
      },
      "outputs": [],
      "source": [
        "# Rank 1 tensor contiene 1 circuito.\n",
        "circuit_tensor = tfq.convert_to_tensor([circuit])\n",
        "\n",
        "print(circuit_tensor.shape)\n",
        "print(circuit_tensor.dtype)"
      ]
    },
    {
      "cell_type": "markdown",
      "metadata": {
        "id": "SJy6AkbU6pIP"
      },
      "source": [
        "puedes usar la libreria Cirq como objeto de `tf.string` tensores que `tfq` puedes necesitar para las operaciones de entrelazamiento."
      ]
    },
    {
      "cell_type": "code",
      "execution_count": null,
      "metadata": {
        "id": "aX_vEmCKmpQS",
        "vscode": {
          "languageId": "python"
        }
      },
      "outputs": [],
      "source": [
        "# Rank 1 tensor contiene 2 Pauli operaciones (entrelazamientos).\n",
        "pauli_tensor = tfq.convert_to_tensor([z0, z0x1])\n",
        "pauli_tensor.shape"
      ]
    },
    {
      "cell_type": "markdown",
      "metadata": {
        "id": "FI1JLWe6m8JF"
      },
      "source": [
        "### 1.3 simulacion del circuito cuantico con Rusworkx libreria de grafos\n",
        "\n",
        "TFQ metodos evaluados de modo simple de entrelazamiento cuanticos , ejemplos como, la mecanica de fourier . por  ahora, nos enfocamos en la expectacionde evaluacion *expectation values*.\n",
        "\n",
        "solamente es parte de la simulacion cuantica para comprender el concepto de simulacion y expectador `tfq.layers.Expectation` del juego, cuando esta paqueteria `tf.keras.Layer`. muestra la funcion en movimiento del circuito cerrado para la paqueteira de `cirq.ParamResolvers`; sin embargo, TFQ siguiendo este parche de programacion hibrida TensorFlow semantico, y circuitos de la simulacion, este concepto esta programado usando como base lastre C++ (inestable).\n",
        "\n",
        "Crea un parche y evalua como substituto de `a` y `b` como parametros tipo flotante:"
      ]
    },
    {
      "cell_type": "code",
      "execution_count": null,
      "metadata": {
        "id": "1fsVZhF5lIXp",
        "vscode": {
          "languageId": "python"
        }
      },
      "outputs": [],
      "source": [
        "batch_vals = np.array(np.random.uniform(0, 2 * np.pi, (5, 2)), dtype=float)"
      ]
    },
    {
      "cell_type": "markdown",
      "metadata": {
        "id": "Ip7jlGXIf22u"
      },
      "source": [
        "Cirq usa como parche la repeticion vemos que comentamos que usa vectores que  repite para su funcion aunque este es flotante (importante):"
      ]
    },
    {
      "cell_type": "code",
      "execution_count": null,
      "metadata": {
        "id": "RsfF53UCJtr9",
        "vscode": {
          "languageId": "python"
        }
      },
      "outputs": [],
      "source": [
        "cirq_results = []\n",
        "cirq_simulator = cirq.Simulator()\n",
        "\n",
        "for vals in batch_vals:\n",
        "    resolver = cirq.ParamResolver({a: vals[0], b: vals[1]})\n",
        "    final_state_vector = cirq_simulator.simulate(circuit,\n",
        "                                                 resolver).final_state_vector\n",
        "    cirq_results.append([\n",
        "        z0.expectation_from_state_vector(final_state_vector, {\n",
        "            q0: 0,\n",
        "            q1: 1\n",
        "        }).real\n",
        "    ])\n",
        "\n",
        "print('cirq parche es: \\n {}'.format(np.array(cirq_results)))"
      ]
    },
    {
      "cell_type": "markdown",
      "metadata": {
        "id": "W0JlZEu-f9Ac"
      },
      "source": [
        "la operacion se simplifica en TFQ:"
      ]
    },
    {
      "cell_type": "code",
      "execution_count": null,
      "metadata": {
        "id": "kGZVdcZ6y9lC",
        "vscode": {
          "languageId": "python"
        }
      },
      "outputs": [],
      "source": [
        "tfq.layers.Expectation()(circuit,\n",
        "                         symbol_names=[b, a],\n",
        "                         symbol_values=batch_vals,\n",
        "                         operators=z0)"
      ]
    },
    {
      "cell_type": "markdown",
      "metadata": {
        "id": "wppQ3TJ23mWC"
      },
      "source": [
        "## 2. Optimización híbrida cuántica-clásica\n",
        "\n",
        "Ahora que ha visto los conceptos básicos, usemos TensorFlow Quantum para construir un *hybrid quantum-classical neural net*. Entrenarás una red neuronal clásica para controlar un único cúbit. El control se optimizará para preparar correctamente el cúbit en el estado «0» o «1», superando un error de calibración sistemático simulado. Esta figura muestra la arquitectura:\n",
        "\n",
        "<img src=\"https://github.com/tensorflow/quantum/blob/master/docs/tutorials/images/nn_control1.png?raw=1\" width=\"1000\">\n",
        "\n",
        "Incluso sin una red neuronal, este es un problema sencillo de resolver, pero el tema es similar a los problemas de control cuántico reales que podría resolver utilizando TFQ. Demuestra un ejemplo de extremo a extremo de un cálculo cuántico-clásico utilizando el `tfq.layers.ControlledPQC` (Circuito cuántico parametrizado) capa dentro de un `tf.keras.Model`."
      ]
    },
    {
      "cell_type": "markdown",
      "metadata": {
        "id": "NlyxF3Q-6pIe"
      },
      "source": [
        "Para la implementación de este tutorial, esta arquitectura se divide en 3 partes:\n",
        "\n",
        "- la *input circuit* o *datapoint circuit*: el primer espacio de $R$ estados de control.\n",
        "- la *controlled circuit*: en espacio de control de $R$ estados.\n",
        "- el *controller*: la clasica red neuronal que controla el circuito en el epacio de R."
      ]
    },
    {
      "cell_type": "markdown",
      "metadata": {
        "id": "VjDf-nTM6ZSs"
      },
      "source": [
        "### 2.1 Controlando el circuito de definicion de R\n",
        "\n",
        "\n",
        "Defina una rotación de un solo bit que se pueda aprender, como se indica en la figura anterior. Esto corresponderá a nuestro circuito controlado."
      ]
    },
    {
      "cell_type": "code",
      "execution_count": null,
      "metadata": {
        "id": "N-j7SCl-51-q",
        "vscode": {
          "languageId": "python"
        }
      },
      "outputs": [],
      "source": [
        "# Parámetros a los que la red neuronal clásica ingresará valores.\n",
        "control_params = sympy.symbols('theta_1 theta_2 theta_3')\n",
        "\n",
        "# Crear el circuito parametrizado.\n",
        "qubit = cirq.GridQubit(0, 0)\n",
        "model_circuit = cirq.Circuit(\n",
        "    cirq.rz(control_params[0])(qubit),\n",
        "    cirq.ry(control_params[1])(qubit),\n",
        "    cirq.rx(control_params[2])(qubit))\n",
        "\n",
        "SVGCircuit(model_circuit)"
      ]
    },
    {
      "cell_type": "markdown",
      "metadata": {
        "id": "wfjSbsvb7g9f"
      },
      "source": [
        "### 2.2 El controlador de R\n",
        "\n",
        "Ahora defina la red del controlador:"
      ]
    },
    {
      "cell_type": "code",
      "execution_count": null,
      "metadata": {
        "id": "1v4CK2jD6pIj",
        "vscode": {
          "languageId": "python"
        }
      },
      "outputs": [],
      "source": [
        "# Las capas de la red neuronal clásica.\n",
        "controller = tf.keras.Sequential(\n",
        "    [tf.keras.layers.Dense(10, activation='elu'),\n",
        "     tf.keras.layers.Dense(3)])"
      ]
    },
    {
      "cell_type": "markdown",
      "metadata": {
        "id": "QNimbsAt6pIm"
      },
      "source": [
        "Dado un lote de comandos, el controlador genera un lote de señales de control para el circuito controlado.\n",
        "\n",
        "El controlador se inicializa aleatoriamente, por lo que estas salidas aún no son útiles."
      ]
    },
    {
      "cell_type": "code",
      "execution_count": null,
      "metadata": {
        "id": "kZbYRTe16pIm",
        "vscode": {
          "languageId": "python"
        }
      },
      "outputs": [],
      "source": [
        "controller(tf.constant([[0.0], [1.0]])).numpy()"
      ]
    },
    {
      "cell_type": "markdown",
      "metadata": {
        "id": "XizLExg56pIp"
      },
      "source": [
        "### 2.3 Conecte el controlador al circuito"
      ]
    },
    {
      "cell_type": "markdown",
      "metadata": {
        "id": "I5Pmy5-V6pIq"
      },
      "source": [
        "Utilice `tfq` para conectar el controlador al circuito controlado, como un único `keras.Model`.\n",
        "\n",
        "Consulte la [guía de la API funcional de Keras](https://www.tensorflow.org/guide/keras/functional) Para obtener más información sobre este estilo de definición de modelo, consulte primero las entradas del modelo.:  "
      ]
    },
    {
      "cell_type": "code",
      "execution_count": null,
      "metadata": {
        "id": "UfHF8NNE6pIr",
        "vscode": {
          "languageId": "python"
        }
      },
      "outputs": [],
      "source": [
        "# Esta entrada es la descalibración simulada que el modelo aprenderá a corregir.\n",
        "circuits_input = tf.keras.Input(\n",
        "    shape=(),\n",
        "    # El tensor de circuito tiene tipo dtype `tf.string`\n",
        "    dtype=tf.string,\n",
        "    name='circuits_input')\n",
        "\n",
        "# Los comandos serán `0` o `1`, especificando el estado en el que se establecerá el qubit.\n",
        "commands_input = tf.keras.Input(shape=(1,),\n",
        "                                dtype=tf.dtypes.float32,\n",
        "                                name='commands_input')"
      ]
    },
    {
      "cell_type": "markdown",
      "metadata": {
        "id": "y9xN2mNl6pIu"
      },
      "source": [
        "A continuación, aplique operaciones a esas entradas para definir el cálculo."
      ]
    },
    {
      "cell_type": "code",
      "execution_count": null,
      "metadata": {
        "id": "Zvt2YGmZ6pIu",
        "vscode": {
          "languageId": "python"
        }
      },
      "outputs": [],
      "source": [
        "dense_2 = controller(commands_input)\n",
        "\n",
        "# TFQ capa para circuitos controlados clásicamente.\n",
        "expectation_layer = tfq.layers.ControlledPQC(\n",
        "    model_circuit,\n",
        "    # Observando a Z\n",
        "    operators=cirq.Z(qubit))\n",
        "expectation = expectation_layer([circuits_input, dense_2])"
      ]
    },
    {
      "cell_type": "markdown",
      "metadata": {
        "id": "Ip2jNA9h6pIy"
      },
      "source": [
        "Ahora empaquete este cálculo como un `tf.keras.Model`:"
      ]
    },
    {
      "cell_type": "code",
      "execution_count": null,
      "metadata": {
        "id": "Xs6EMhah6pIz",
        "vscode": {
          "languageId": "python"
        }
      },
      "outputs": [],
      "source": [
        "# El modelo completo de Keras se construye a partir de nuestras capas.\n",
        "model = tf.keras.Model(inputs=[circuits_input, commands_input],\n",
        "                       outputs=expectation)\n"
      ]
    },
    {
      "cell_type": "markdown",
      "metadata": {
        "id": "w7kgqm3t6pI3"
      },
      "source": [
        "La arquitectura de la red se indica mediante el gráfico del modelo que aparece a continuación.\n",
        "Compare el gráfico del modelo con el diagrama de arquitectura para verificar que sea correcto.\n",
        "\n",
        "Nota: Es posible que se requiera la instalación del paquete `graphviz` en el sistema."
      ]
    },
    {
      "cell_type": "code",
      "execution_count": null,
      "metadata": {
        "id": "ERXNPe4F6pI4",
        "vscode": {
          "languageId": "python"
        }
      },
      "outputs": [],
      "source": [
        "tf.keras.utils.plot_model(model, show_shapes=True, dpi=70)"
      ]
    },
    {
      "cell_type": "markdown",
      "metadata": {
        "id": "-Pbemgww6pI7"
      },
      "source": [
        "Este modelo toma dos entradas: los comandos para el controlador y el circuito de entrada cuya salida el controlador está intentando corregir."
      ]
    },
    {
      "cell_type": "markdown",
      "metadata": {
        "id": "hpnIBK916pI8"
      },
      "source": [
        "### 2.4 el dataset"
      ]
    },
    {
      "cell_type": "markdown",
      "metadata": {
        "id": "yJSC9qH76pJA"
      },
      "source": [
        "El modelo intenta generar el valor de medición correcto de $\\hat{Z}$ Para cada comando, los comandos y los valores correctos se definen a continuación."
      ]
    },
    {
      "cell_type": "code",
      "execution_count": null,
      "metadata": {
        "id": "ciMIJAuH6pJA",
        "vscode": {
          "languageId": "python"
        }
      },
      "outputs": [],
      "source": [
        "# Los valores de entrada del comando a la NN clásica.\n",
        "commands = np.array([[0], [1]], dtype=np.float32)\n",
        "\n",
        "# El valor esperado Z deseado en la salida del circuito cuántico.\n",
        "expected_outputs = np.array([[1], [-1]], dtype=np.float32)"
      ]
    },
    {
      "cell_type": "markdown",
      "metadata": {
        "id": "kV1LM_hZ6pJD"
      },
      "source": [
        "Este no es el conjunto de datos de entrenamiento completo para esta tarea. Cada punto de datos del conjunto de datos también necesita un circuito de entrada."
      ]
    },
    {
      "cell_type": "markdown",
      "metadata": {
        "id": "bbiVHvSYVW4H"
      },
      "source": [
        "### 2.4 Definición del circuito de entrada\n",
        "\n",
        "El circuito de entrada a continuación define la calibración incorrecta aleatoria que el modelo aprenderá a corregir."
      ]
    },
    {
      "cell_type": "code",
      "execution_count": null,
      "metadata": {
        "id": "_VYfzHffWo7n",
        "vscode": {
          "languageId": "python"
        }
      },
      "outputs": [],
      "source": [
        "random_rotations = np.random.uniform(0, 2 * np.pi, 3)\n",
        "noisy_preparation = cirq.Circuit(\n",
        "    cirq.rx(random_rotations[0])(qubit),\n",
        "    cirq.ry(random_rotations[1])(qubit),\n",
        "    cirq.rz(random_rotations[2])(qubit))\n",
        "datapoint_circuits = tfq.convert_to_tensor([noisy_preparation] *\n",
        "                                           2)  # Haz dos copias de este circuito."
      ]
    },
    {
      "cell_type": "markdown",
      "metadata": {
        "id": "FvOkMyKI6pJI"
      },
      "source": [
        "Hay dos copias del circuito, una para cada punto de datos."
      ]
    },
    {
      "cell_type": "code",
      "execution_count": null,
      "metadata": {
        "id": "6nk2Yr3e6pJJ",
        "vscode": {
          "languageId": "python"
        }
      },
      "outputs": [],
      "source": [
        "datapoint_circuits.shape"
      ]
    },
    {
      "cell_type": "markdown",
      "metadata": {
        "id": "gB--UhZZYgVY"
      },
      "source": [
        "### 2.5 Entrenamiento"
      ]
    },
    {
      "cell_type": "markdown",
      "metadata": {
        "id": "jATjqUIv6pJM"
      },
      "source": [
        "Con las entradas definidas puedes ejecutar una prueba del modelo tfq.\n"
      ]
    },
    {
      "cell_type": "code",
      "execution_count": null,
      "metadata": {
        "id": "Lwphqvs96pJO",
        "vscode": {
          "languageId": "python"
        }
      },
      "outputs": [],
      "source": [
        "model([datapoint_circuits, commands]).numpy()"
      ]
    },
    {
      "cell_type": "markdown",
      "metadata": {
        "id": "9gyg5qSL6pJR"
      },
      "source": [
        "Ahora ejecute un proceso de entrenamiento estándar para ajustar estos valores hacia el `expected_outputs`.\n",
        "la salida es 3, porque 1, 0 son ambiguos"
      ]
    },
    {
      "cell_type": "code",
      "execution_count": null,
      "metadata": {
        "id": "dtPYqbNi8zeZ",
        "vscode": {
          "languageId": "python"
        }
      },
      "outputs": [],
      "source": [
        "optimizer = tf.keras.optimizers.Adam(learning_rate=0.05)\n",
        "loss = tf.keras.losses.MeanSquaredError()\n",
        "model.compile(optimizer=optimizer, loss=loss)\n",
        "history = model.fit(x=[datapoint_circuits, commands],\n",
        "                    y=expected_outputs,\n",
        "                    epochs=30,\n",
        "                    verbose=0)"
      ]
    },
    {
      "cell_type": "markdown",
      "metadata": {
        "id": "GTd5DGcRmmOK"
      },
      "source": [
        "Desde este gráfico se puede ver que la red neuronal ha aprendido a superar la descalibración sistemática."
      ]
    },
    {
      "cell_type": "code",
      "execution_count": null,
      "metadata": {
        "id": "azE-qV0OaC1o",
        "vscode": {
          "languageId": "python"
        }
      },
      "outputs": [],
      "source": [
        "plt.plot(history.history['loss'])\n",
        "plt.title(\"Aprendiendo a controlar un Qubit\")\n",
        "plt.xlabel(\"Iteraciones\")\n",
        "plt.ylabel(\"Error en Control\")\n",
        "plt.show()"
      ]
    },
    {
      "cell_type": "markdown",
      "metadata": {
        "id": "C2RfWismj66S"
      },
      "source": [
        "### 2.6 Verifica las salidas\n",
        "Ahora utilice el modelo entrenado para corregir los errores de calibración de cúbits. Con Cirq:"
      ]
    },
    {
      "cell_type": "code",
      "execution_count": null,
      "metadata": {
        "id": "RoIlb7r7j5SY",
        "vscode": {
          "languageId": "python"
        }
      },
      "outputs": [],
      "source": [
        "def check_error(command_values, desired_values):\n",
        "\n",
        "    params_to_prepare_output = controller(command_values).numpy()\n",
        "    full_circuit = noisy_preparation + model_circuit\n",
        "\n",
        "    # Prueba lo bien que puedes preparar un estado para obtener la expectativa\n",
        "    # valor en `desired_values`\n",
        "    for index in [0, 1]:\n",
        "        state = cirq_simulator.simulate(full_circuit, {\n",
        "            s: v\n",
        "            for (s, v) in zip(control_params, params_to_prepare_output[index])\n",
        "        }).final_state_vector\n",
        "        expt = cirq.Z(qubit).expectation_from_state_vector(state, {\n",
        "            qubit: 0\n",
        "        }).real\n",
        "        print(\n",
        "            f'Para un resultado deseado (expectativa) de {desired_values[index]} with'\n",
        "            f' preparación ruidosa, el controlador\\nnetwork encontró lo siguiente '\n",
        "            f'valores para theta: {params_to_prepare_output[index]}\\nLo que da una'\n",
        "            f' expectativa real de: {expt}\\n')\n",
        "\n",
        "\n",
        "check_error(commands, expected_outputs)"
      ]
    },
    {
      "cell_type": "markdown",
      "metadata": {
        "id": "wvW_ZDwmsws6"
      },
      "source": [
        "El valor de la función de pérdida durante el entrenamiento proporciona una idea aproximada de qué tan bien está aprendiendo el modelo. Cuanto menor sea la pérdida, más cerca estarán los valores esperados en la celda anterior de `desired_values`. Si no le preocupan tanto los valores de los parámetros, siempre puede verificar los resultados de arriba usando `tfq`:"
      ]
    },
    {
      "cell_type": "code",
      "execution_count": null,
      "metadata": {
        "id": "aYskLTacs8Ku",
        "vscode": {
          "languageId": "python"
        }
      },
      "outputs": [],
      "source": [
        "model([datapoint_circuits, commands])"
      ]
    },
    {
      "cell_type": "markdown",
      "metadata": {
        "id": "jNrW0NXR-lDC"
      },
      "source": [
        "## 3 Aprendiendo a preparar estados propios de diferentes operadores\n",
        "\n",
        "La elección de la $\\pm \\hat{Z}$ Los estados propios correspondientes a 1 y 0 eran arbitrarios. Fácilmente podrías haber querido que 1 correspondiera a los $+ \\hat{Z}$ Estado propio y 0 para corresponder al $-\\hat{X}$ Estado propio. Una forma de lograr esto es especificar un operador de medición diferente para cada comando, como se indica en la siguiente figura:\n",
        "\n",
        "<img src=\"https://github.com/tensorflow/quantum/blob/master/docs/tutorials/images/nn_control2.png?raw=1\" width=\"1000\">\n",
        "\n",
        "Esto requiere el uso de <code>tfq.layers.Expectation</code>. Ahora, la entrada ha crecido e incluye tres objetos: circuito, comando y operador. La salida sigue siendo el valor esperado."
      ]
    },
    {
      "cell_type": "markdown",
      "metadata": {
        "id": "Ci3WMZ9CjEM1"
      },
      "source": [
        "### 3.1 Nueva definición del modelo\n",
        "\n",
        "Echemos un vistazo al modelo para realizar esta tarea:"
      ]
    },
    {
      "cell_type": "code",
      "execution_count": null,
      "metadata": {
        "id": "hta0G3Nc6pJY",
        "vscode": {
          "languageId": "python"
        }
      },
      "outputs": [],
      "source": [
        "# Define entradas.\n",
        "commands_input = tf.keras.layers.Input(shape=(1),\n",
        "                                       dtype=tf.dtypes.float32,\n",
        "                                       name='commands_input')\n",
        "circuits_input = tf.keras.Input(\n",
        "    shape=(),\n",
        "    # el circuito es del tipo `tf.string`\n",
        "    dtype=tf.dtypes.string,\n",
        "    name='circuits_input')\n",
        "operators_input = tf.keras.Input(shape=(1,),\n",
        "                                 dtype=tf.dtypes.string,\n",
        "                                 name='operators_input')"
      ]
    },
    {
      "cell_type": "markdown",
      "metadata": {
        "id": "dtdnkrZm6pJb"
      },
      "source": [
        "Aquí está la red del controlador:"
      ]
    },
    {
      "cell_type": "code",
      "execution_count": null,
      "metadata": {
        "id": "n_aTG4g3-y0F",
        "vscode": {
          "languageId": "python"
        }
      },
      "outputs": [],
      "source": [
        "# Define la red clasica NN.\n",
        "controller = tf.keras.Sequential(\n",
        "    [tf.keras.layers.Dense(10, activation='elu'),\n",
        "     tf.keras.layers.Dense(3)])"
      ]
    },
    {
      "cell_type": "markdown",
      "metadata": {
        "id": "q9aN2ciy6pJf"
      },
      "source": [
        "Combine el circuito y el controlador en un solo `keras.Model` usando `tfq`:"
      ]
    },
    {
      "cell_type": "code",
      "execution_count": null,
      "metadata": {
        "id": "IMHjiKit6pJg",
        "vscode": {
          "languageId": "python"
        }
      },
      "outputs": [],
      "source": [
        "dense_2 = controller(commands_input)\n",
        "\n",
        "# Dado que no está utilizando un PQC o ControlledPQC, debe agregar\n",
        "# su circuito modelo al tensor del circuito del punto de datos manualmente.\n",
        "full_circuit = tfq.layers.AddCircuit()(circuits_input, append=model_circuit)\n",
        "expectation_output = tfq.layers.Expectation()(full_circuit,\n",
        "                                              symbol_names=control_params,\n",
        "                                              symbol_values=dense_2,\n",
        "                                              operators=operators_input)\n",
        "\n",
        "#construye tu modelo en keras.\n",
        "two_axis_control_model = tf.keras.Model(\n",
        "    inputs=[circuits_input, commands_input, operators_input],\n",
        "    outputs=[expectation_output])"
      ]
    },
    {
      "cell_type": "markdown",
      "metadata": {
        "id": "VQTM6CCiD4gU"
      },
      "source": [
        "### 3.2El conjunto de datos\n",
        "\n",
        "Ahora también incluirá los operadores que desea medir para cada punto de datos que proporcione para `model_circuit`:"
      ]
    },
    {
      "cell_type": "code",
      "execution_count": null,
      "metadata": {
        "id": "4gw_L3JG0_G0",
        "vscode": {
          "languageId": "python"
        }
      },
      "outputs": [],
      "source": [
        "# Los operadores a medir, para cada comando.\n",
        "operator_data = tfq.convert_to_tensor([[cirq.X(qubit)], [cirq.Z(qubit)]])\n",
        "\n",
        "# Los valores de entrada del comando son para la NN clásica.\n",
        "commands = np.array([[0], [1]], dtype=np.float32)\n",
        "\n",
        "# El valor esperado deseado en la salida del circuito cuántico.\n",
        "expected_outputs = np.array([[1], [-1]], dtype=np.float32)"
      ]
    },
    {
      "cell_type": "markdown",
      "metadata": {
        "id": "ALCKSvwh0_G2"
      },
      "source": [
        "### 3.3 Entrenamiento\n",
        "\n",
        "Ahora que tienes tus nuevas entradas y salidas, puedes entrenar nuevamente usando Keras."
      ]
    },
    {
      "cell_type": "code",
      "execution_count": null,
      "metadata": {
        "id": "nFuGA73MAA4p",
        "vscode": {
          "languageId": "python"
        }
      },
      "outputs": [],
      "source": [
        "optimizer = tf.keras.optimizers.Adam(learning_rate=0.05)\n",
        "loss = tf.keras.losses.MeanSquaredError()\n",
        "\n",
        "two_axis_control_model.compile(optimizer=optimizer, loss=loss)\n",
        "\n",
        "history = two_axis_control_model.fit(\n",
        "    x=[datapoint_circuits, commands, operator_data],\n",
        "    y=expected_outputs,\n",
        "    epochs=30,\n",
        "    verbose=1)"
      ]
    },
    {
      "cell_type": "code",
      "execution_count": null,
      "metadata": {
        "id": "Cf_G-GdturLL",
        "vscode": {
          "languageId": "python"
        }
      },
      "outputs": [],
      "source": [
        "plt.plot(history.history['loss'])\n",
        "plt.title(\"Aprendiendo a controlar un Qubit\")\n",
        "plt.xlabel(\"Iteraciones\")\n",
        "plt.ylabel(\"Error en Control\")\n",
        "plt.show()"
      ]
    },
    {
      "cell_type": "markdown",
      "metadata": {
        "id": "sdCPDH9NlJBl"
      },
      "source": [
        "La función de pérdida ha caído a cero."
      ]
    },
    {
      "cell_type": "markdown",
      "metadata": {
        "id": "NzY8eSVm6pJs"
      },
      "source": [
        "El `controlador` está disponible como modelo independiente. Llame al controlador y verifique su respuesta a cada señal de comando. Se necesitaría algo de trabajo para comparar correctamente estas salidas con el contenido de `random_rotations`."
      ]
    },
    {
      "cell_type": "code",
      "execution_count": null,
      "metadata": {
        "id": "uXmH0TQ76pJt",
        "vscode": {
          "languageId": "python"
        }
      },
      "outputs": [],
      "source": [
        "controller.predict(np.array([0, 1]))"
      ]
    },
    {
      "cell_type": "markdown",
      "metadata": {
        "id": "n2WtXnsxubD2"
      },
      "source": [
        "Puedes Consultar desde algunos articulos de la red o bien en algunas enciclopedias de mecanica cuantica en la biblioteca central de red\n",
        "###BUAP"
      ]
    }
  ],
  "metadata": {
    "colab": {
      "private_outputs": true,
      "provenance": [],
      "gpuType": "T4"
    },
    "kernelspec": {
      "display_name": "Python 3",
      "name": "python3"
    },
    "accelerator": "GPU"
  },
  "nbformat": 4,
  "nbformat_minor": 0
}